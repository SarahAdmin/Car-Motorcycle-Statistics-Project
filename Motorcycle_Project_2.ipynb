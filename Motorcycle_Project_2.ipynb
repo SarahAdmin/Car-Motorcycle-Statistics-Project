{
  "cells": [
    {
      "cell_type": "code",
      "execution_count": 1,
      "metadata": {
        "id": "9XsCxeK3giCx"
      },
      "outputs": [],
      "source": [
        "import pandas as pd"
      ]
    },
    {
      "cell_type": "code",
      "execution_count": 2,
      "metadata": {
        "id": "lblb9VBWgxxY"
      },
      "outputs": [],
      "source": [
        "df = pd.read_csv('motorcycle_data_2.csv',encoding='latin-1')"
      ]
    },
    {
      "cell_type": "markdown",
      "metadata": {
        "id": "DYwANOSEh18l"
      },
      "source": [
        "The results of the motorcycle rate is shows of percentages of those pass rates are coloured as key codes. For example: Lightest colour represents the minimum number and Darkest colour represents the maximum number.\n"
      ]
    },
    {
      "cell_type": "code",
      "execution_count": 3,
      "metadata": {
        "colab": {
          "base_uri": "https://localhost:8080/",
          "height": 456
        },
        "id": "CS_VBhusg5ez",
        "outputId": "4812ca3c-a3d6-4fdd-aa99-0990d8ff03f8"
      },
      "outputs": [
        {
          "data": {
            "text/html": [
              "<style type=\"text/css\">\n",
              "#T_5c2db_row0_col5 {\n",
              "  background-color: #f9802d;\n",
              "  color: #f1f1f1;\n",
              "}\n",
              "#T_5c2db_row1_col5 {\n",
              "  background-color: #fff5eb;\n",
              "  color: #000000;\n",
              "}\n",
              "#T_5c2db_row2_col5 {\n",
              "  background-color: #f67925;\n",
              "  color: #f1f1f1;\n",
              "}\n",
              "#T_5c2db_row3_col5 {\n",
              "  background-color: #fee7d1;\n",
              "  color: #000000;\n",
              "}\n",
              "#T_5c2db_row4_col5 {\n",
              "  background-color: #e65a0b;\n",
              "  color: #f1f1f1;\n",
              "}\n",
              "#T_5c2db_row5_col5 {\n",
              "  background-color: #fdca99;\n",
              "  color: #000000;\n",
              "}\n",
              "#T_5c2db_row6_col5 {\n",
              "  background-color: #7f2704;\n",
              "  color: #f1f1f1;\n",
              "}\n",
              "#T_5c2db_row7_col5 {\n",
              "  background-color: #fd994d;\n",
              "  color: #000000;\n",
              "}\n",
              "</style>\n",
              "<table id=\"T_5c2db\">\n",
              "  <thead>\n",
              "    <tr>\n",
              "      <th class=\"blank level0\" >&nbsp;</th>\n",
              "      <th id=\"T_5c2db_level0_col0\" class=\"col_heading level0 col0\" >Date Interval</th>\n",
              "      <th id=\"T_5c2db_level0_col1\" class=\"col_heading level0 col1\" >Date</th>\n",
              "      <th id=\"T_5c2db_level0_col2\" class=\"col_heading level0 col2\" >Test Category</th>\n",
              "      <th id=\"T_5c2db_level0_col3\" class=\"col_heading level0 col3\" >Conducted</th>\n",
              "      <th id=\"T_5c2db_level0_col4\" class=\"col_heading level0 col4\" >Passed</th>\n",
              "      <th id=\"T_5c2db_level0_col5\" class=\"col_heading level0 col5\" >Pass rate (Percentage)</th>\n",
              "    </tr>\n",
              "  </thead>\n",
              "  <tbody>\n",
              "    <tr>\n",
              "      <th id=\"T_5c2db_level0_row0\" class=\"row_heading level0 row0\" >0</th>\n",
              "      <td id=\"T_5c2db_row0_col0\" class=\"data row0 col0\" >Financial Year</td>\n",
              "      <td id=\"T_5c2db_row0_col1\" class=\"data row0 col1\" >2022 to 2023</td>\n",
              "      <td id=\"T_5c2db_row0_col2\" class=\"data row0 col2\" >Motorcycle Module 1 Off Road</td>\n",
              "      <td id=\"T_5c2db_row0_col3\" class=\"data row0 col3\" > 58,862 </td>\n",
              "      <td id=\"T_5c2db_row0_col4\" class=\"data row0 col4\" > 43,056 </td>\n",
              "      <td id=\"T_5c2db_row0_col5\" class=\"data row0 col5\" >73.100000</td>\n",
              "    </tr>\n",
              "    <tr>\n",
              "      <th id=\"T_5c2db_level0_row1\" class=\"row_heading level0 row1\" >1</th>\n",
              "      <td id=\"T_5c2db_row1_col0\" class=\"data row1 col0\" >Financial Year</td>\n",
              "      <td id=\"T_5c2db_row1_col1\" class=\"data row1 col1\" >2022 to 2023</td>\n",
              "      <td id=\"T_5c2db_row1_col2\" class=\"data row1 col2\" >Motorcycle Module 2 On Road</td>\n",
              "      <td id=\"T_5c2db_row1_col3\" class=\"data row1 col3\" > 59,069 </td>\n",
              "      <td id=\"T_5c2db_row1_col4\" class=\"data row1 col4\" > 41,762 </td>\n",
              "      <td id=\"T_5c2db_row1_col5\" class=\"data row1 col5\" >70.700000</td>\n",
              "    </tr>\n",
              "    <tr>\n",
              "      <th id=\"T_5c2db_level0_row2\" class=\"row_heading level0 row2\" >2</th>\n",
              "      <td id=\"T_5c2db_row2_col0\" class=\"data row2 col0\" >Financial Year</td>\n",
              "      <td id=\"T_5c2db_row2_col1\" class=\"data row2 col1\" >2023 to 2024</td>\n",
              "      <td id=\"T_5c2db_row2_col2\" class=\"data row2 col2\" >Motorcycle Module 1 Off Road</td>\n",
              "      <td id=\"T_5c2db_row2_col3\" class=\"data row2 col3\" > 56,934 </td>\n",
              "      <td id=\"T_5c2db_row2_col4\" class=\"data row2 col4\" > 41,670 </td>\n",
              "      <td id=\"T_5c2db_row2_col5\" class=\"data row2 col5\" >73.200000</td>\n",
              "    </tr>\n",
              "    <tr>\n",
              "      <th id=\"T_5c2db_level0_row3\" class=\"row_heading level0 row3\" >3</th>\n",
              "      <td id=\"T_5c2db_row3_col0\" class=\"data row3 col0\" >Financial Year</td>\n",
              "      <td id=\"T_5c2db_row3_col1\" class=\"data row3 col1\" >2023 to 2024</td>\n",
              "      <td id=\"T_5c2db_row3_col2\" class=\"data row3 col2\" >Motorcycle Module 2 On Road</td>\n",
              "      <td id=\"T_5c2db_row3_col3\" class=\"data row3 col3\" > 56,581 </td>\n",
              "      <td id=\"T_5c2db_row3_col4\" class=\"data row3 col4\" > 40,306 </td>\n",
              "      <td id=\"T_5c2db_row3_col5\" class=\"data row3 col5\" >71.200000</td>\n",
              "    </tr>\n",
              "    <tr>\n",
              "      <th id=\"T_5c2db_level0_row4\" class=\"row_heading level0 row4\" >4</th>\n",
              "      <td id=\"T_5c2db_row4_col0\" class=\"data row4 col0\" >Financial Year</td>\n",
              "      <td id=\"T_5c2db_row4_col1\" class=\"data row4 col1\" >2024 to 2025</td>\n",
              "      <td id=\"T_5c2db_row4_col2\" class=\"data row4 col2\" >Motorcycle Module 1 Off Road</td>\n",
              "      <td id=\"T_5c2db_row4_col3\" class=\"data row4 col3\" > 56,427 </td>\n",
              "      <td id=\"T_5c2db_row4_col4\" class=\"data row4 col4\" > 41,461 </td>\n",
              "      <td id=\"T_5c2db_row4_col5\" class=\"data row4 col5\" >73.700000</td>\n",
              "    </tr>\n",
              "    <tr>\n",
              "      <th id=\"T_5c2db_level0_row5\" class=\"row_heading level0 row5\" >5</th>\n",
              "      <td id=\"T_5c2db_row5_col0\" class=\"data row5 col0\" >Financial Year</td>\n",
              "      <td id=\"T_5c2db_row5_col1\" class=\"data row5 col1\" >2024 to 2025</td>\n",
              "      <td id=\"T_5c2db_row5_col2\" class=\"data row5 col2\" >Motorcycle Module 2 On Road</td>\n",
              "      <td id=\"T_5c2db_row5_col3\" class=\"data row5 col3\" > 55,497 </td>\n",
              "      <td id=\"T_5c2db_row5_col4\" class=\"data row5 col4\" > 39,942 </td>\n",
              "      <td id=\"T_5c2db_row5_col5\" class=\"data row5 col5\" >71.900000</td>\n",
              "    </tr>\n",
              "    <tr>\n",
              "      <th id=\"T_5c2db_level0_row6\" class=\"row_heading level0 row6\" >6</th>\n",
              "      <td id=\"T_5c2db_row6_col0\" class=\"data row6 col0\" >Financial Year</td>\n",
              "      <td id=\"T_5c2db_row6_col1\" class=\"data row6 col1\" >2025 to 2026 (year to date)</td>\n",
              "      <td id=\"T_5c2db_row6_col2\" class=\"data row6 col2\" >Motorcycle Module 1 Off Road</td>\n",
              "      <td id=\"T_5c2db_row6_col3\" class=\"data row6 col3\" > 16,251 </td>\n",
              "      <td id=\"T_5c2db_row6_col4\" class=\"data row6 col4\" > 12,202 </td>\n",
              "      <td id=\"T_5c2db_row6_col5\" class=\"data row6 col5\" >75.100000</td>\n",
              "    </tr>\n",
              "    <tr>\n",
              "      <th id=\"T_5c2db_level0_row7\" class=\"row_heading level0 row7\" >7</th>\n",
              "      <td id=\"T_5c2db_row7_col0\" class=\"data row7 col0\" >Financial Year</td>\n",
              "      <td id=\"T_5c2db_row7_col1\" class=\"data row7 col1\" >2025 to 2026 (year to date)</td>\n",
              "      <td id=\"T_5c2db_row7_col2\" class=\"data row7 col2\" >Motorcycle Module 2 On Road</td>\n",
              "      <td id=\"T_5c2db_row7_col3\" class=\"data row7 col3\" > 15,218 </td>\n",
              "      <td id=\"T_5c2db_row7_col4\" class=\"data row7 col4\" > 11,071 </td>\n",
              "      <td id=\"T_5c2db_row7_col5\" class=\"data row7 col5\" >72.700000</td>\n",
              "    </tr>\n",
              "  </tbody>\n",
              "</table>\n"
            ],
            "text/plain": [
              "<pandas.io.formats.style.Styler at 0x752d2f30e240>"
            ]
          },
          "execution_count": 3,
          "metadata": {},
          "output_type": "execute_result"
        }
      ],
      "source": [
        "df.style.background_gradient(cmap='Oranges')"
      ]
    },
    {
      "cell_type": "markdown",
      "metadata": {
        "id": "y7TZ36E2kFDs"
      },
      "source": [
        "The statistics shows results of those percentages as pass rates.\n",
        " The maximum percentage of the motorycle pass rate is 2025-2026 (year to date) and the catergory - Motorcycle Module 1 Off Road. The minimum percentage of the motocycle pass rate is 2022-2023 and the catergory - Motorcycle Module 2 On Road."
      ]
    },
    {
      "cell_type": "code",
      "execution_count": 4,
      "metadata": {
        "colab": {
          "base_uri": "https://localhost:8080/",
          "height": 300
        },
        "id": "YWSIG7rDhJB_",
        "outputId": "631b62b4-a3af-4ce9-9aed-a5ff6fc305dc"
      },
      "outputs": [
        {
          "data": {
            "text/html": [
              "<div>\n",
              "<style scoped>\n",
              "    .dataframe tbody tr th:only-of-type {\n",
              "        vertical-align: middle;\n",
              "    }\n",
              "\n",
              "    .dataframe tbody tr th {\n",
              "        vertical-align: top;\n",
              "    }\n",
              "\n",
              "    .dataframe thead th {\n",
              "        text-align: right;\n",
              "    }\n",
              "</style>\n",
              "<table border=\"1\" class=\"dataframe\">\n",
              "  <thead>\n",
              "    <tr style=\"text-align: right;\">\n",
              "      <th></th>\n",
              "      <th>Pass rate (Percentage)</th>\n",
              "    </tr>\n",
              "  </thead>\n",
              "  <tbody>\n",
              "    <tr>\n",
              "      <th>count</th>\n",
              "      <td>8.000000</td>\n",
              "    </tr>\n",
              "    <tr>\n",
              "      <th>mean</th>\n",
              "      <td>72.700000</td>\n",
              "    </tr>\n",
              "    <tr>\n",
              "      <th>std</th>\n",
              "      <td>1.417241</td>\n",
              "    </tr>\n",
              "    <tr>\n",
              "      <th>min</th>\n",
              "      <td>70.700000</td>\n",
              "    </tr>\n",
              "    <tr>\n",
              "      <th>25%</th>\n",
              "      <td>71.725000</td>\n",
              "    </tr>\n",
              "    <tr>\n",
              "      <th>50%</th>\n",
              "      <td>72.900000</td>\n",
              "    </tr>\n",
              "    <tr>\n",
              "      <th>75%</th>\n",
              "      <td>73.325000</td>\n",
              "    </tr>\n",
              "    <tr>\n",
              "      <th>max</th>\n",
              "      <td>75.100000</td>\n",
              "    </tr>\n",
              "  </tbody>\n",
              "</table>\n",
              "</div>"
            ],
            "text/plain": [
              "       Pass rate (Percentage)\n",
              "count                8.000000\n",
              "mean                72.700000\n",
              "std                  1.417241\n",
              "min                 70.700000\n",
              "25%                 71.725000\n",
              "50%                 72.900000\n",
              "75%                 73.325000\n",
              "max                 75.100000"
            ]
          },
          "execution_count": 4,
          "metadata": {},
          "output_type": "execute_result"
        }
      ],
      "source": [
        "df.describe()"
      ]
    }
  ],
  "metadata": {
    "colab": {
      "authorship_tag": "ABX9TyOOz9MqlyCw5WscUGPFJkOJ",
      "provenance": []
    },
    "kernelspec": {
      "display_name": "Python 3",
      "name": "python3"
    },
    "language_info": {
      "codemirror_mode": {
        "name": "ipython",
        "version": 3
      },
      "file_extension": ".py",
      "mimetype": "text/x-python",
      "name": "python",
      "nbconvert_exporter": "python",
      "pygments_lexer": "ipython3",
      "version": "3.12.1"
    }
  },
  "nbformat": 4,
  "nbformat_minor": 0
}
