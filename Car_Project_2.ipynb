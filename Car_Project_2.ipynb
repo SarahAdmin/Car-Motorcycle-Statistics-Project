{
 "cells": [
  {
   "cell_type": "code",
   "execution_count": 1,
   "id": "e4f13422",
   "metadata": {},
   "outputs": [],
   "source": [
    "import pandas as pd"
   ]
  },
  {
   "cell_type": "code",
   "execution_count": 2,
   "id": "7b6acf39",
   "metadata": {},
   "outputs": [],
   "source": [
    "df = pd.read_csv('car_data_2.csv',encoding='latin-1')"
   ]
  },
  {
   "cell_type": "code",
   "execution_count": 3,
   "id": "72f52e76",
   "metadata": {},
   "outputs": [
    {
     "data": {
      "text/html": [
       "<style type=\"text/css\">\n",
       "#T_e3ae9_row0_col3, #T_e3ae9_row1_col3 {\n",
       "  background-color: #5c9fc9;\n",
       "  color: #f1f1f1;\n",
       "}\n",
       "#T_e3ae9_row2_col3 {\n",
       "  background-color: #b8c6e0;\n",
       "  color: #000000;\n",
       "}\n",
       "#T_e3ae9_row3_col3, #T_e3ae9_row8_col3 {\n",
       "  background-color: #adc1dd;\n",
       "  color: #000000;\n",
       "}\n",
       "#T_e3ae9_row4_col3 {\n",
       "  background-color: #6ba5cd;\n",
       "  color: #f1f1f1;\n",
       "}\n",
       "#T_e3ae9_row5_col3, #T_e3ae9_row9_col3, #T_e3ae9_row11_col3 {\n",
       "  background-color: #3d93c2;\n",
       "  color: #f1f1f1;\n",
       "}\n",
       "#T_e3ae9_row6_col3 {\n",
       "  background-color: #ebe6f2;\n",
       "  color: #000000;\n",
       "}\n",
       "#T_e3ae9_row7_col3 {\n",
       "  background-color: #fff7fb;\n",
       "  color: #000000;\n",
       "}\n",
       "#T_e3ae9_row10_col3 {\n",
       "  background-color: #4c99c5;\n",
       "  color: #f1f1f1;\n",
       "}\n",
       "#T_e3ae9_row12_col3 {\n",
       "  background-color: #023858;\n",
       "  color: #f1f1f1;\n",
       "}\n",
       "</style>\n",
       "<table id=\"T_e3ae9\">\n",
       "  <thead>\n",
       "    <tr>\n",
       "      <th class=\"blank level0\" >&nbsp;</th>\n",
       "      <th id=\"T_e3ae9_level0_col0\" class=\"col_heading level0 col0\" >Date</th>\n",
       "      <th id=\"T_e3ae9_level0_col1\" class=\"col_heading level0 col1\" >Conducted</th>\n",
       "      <th id=\"T_e3ae9_level0_col2\" class=\"col_heading level0 col2\" >Passed</th>\n",
       "      <th id=\"T_e3ae9_level0_col3\" class=\"col_heading level0 col3\" >Pass rate (Percentage)</th>\n",
       "    </tr>\n",
       "  </thead>\n",
       "  <tbody>\n",
       "    <tr>\n",
       "      <th id=\"T_e3ae9_level0_row0\" class=\"row_heading level0 row0\" >0</th>\n",
       "      <td id=\"T_e3ae9_row0_col0\" class=\"data row0 col0\" >2022 to 2023 Q1 April to June</td>\n",
       "      <td id=\"T_e3ae9_row0_col1\" class=\"data row0 col1\" > 404,130 </td>\n",
       "      <td id=\"T_e3ae9_row0_col2\" class=\"data row0 col2\" > 196,805 </td>\n",
       "      <td id=\"T_e3ae9_row0_col3\" class=\"data row0 col3\" >48.700000</td>\n",
       "    </tr>\n",
       "    <tr>\n",
       "      <th id=\"T_e3ae9_level0_row1\" class=\"row_heading level0 row1\" >1</th>\n",
       "      <td id=\"T_e3ae9_row1_col0\" class=\"data row1 col0\" >2022 to 2023 Q2 July to September</td>\n",
       "      <td id=\"T_e3ae9_row1_col1\" class=\"data row1 col1\" > 412,735 </td>\n",
       "      <td id=\"T_e3ae9_row1_col2\" class=\"data row1 col2\" > 200,969 </td>\n",
       "      <td id=\"T_e3ae9_row1_col3\" class=\"data row1 col3\" >48.700000</td>\n",
       "    </tr>\n",
       "    <tr>\n",
       "      <th id=\"T_e3ae9_level0_row2\" class=\"row_heading level0 row2\" >2</th>\n",
       "      <td id=\"T_e3ae9_row2_col0\" class=\"data row2 col0\" >2022 to 2023 Q3 October to December</td>\n",
       "      <td id=\"T_e3ae9_row2_col1\" class=\"data row2 col1\" > 425,183 </td>\n",
       "      <td id=\"T_e3ae9_row2_col2\" class=\"data row2 col2\" > 203,925 </td>\n",
       "      <td id=\"T_e3ae9_row2_col3\" class=\"data row2 col3\" >48.000000</td>\n",
       "    </tr>\n",
       "    <tr>\n",
       "      <th id=\"T_e3ae9_level0_row3\" class=\"row_heading level0 row3\" >3</th>\n",
       "      <td id=\"T_e3ae9_row3_col0\" class=\"data row3 col0\" >2022 to 2023 Q4 January to March</td>\n",
       "      <td id=\"T_e3ae9_row3_col1\" class=\"data row3 col1\" > 446,907 </td>\n",
       "      <td id=\"T_e3ae9_row3_col2\" class=\"data row3 col2\" > 215,076 </td>\n",
       "      <td id=\"T_e3ae9_row3_col3\" class=\"data row3 col3\" >48.100000</td>\n",
       "    </tr>\n",
       "    <tr>\n",
       "      <th id=\"T_e3ae9_level0_row4\" class=\"row_heading level0 row4\" >4</th>\n",
       "      <td id=\"T_e3ae9_row4_col0\" class=\"data row4 col0\" >2023 to 2024 Q1 April to June</td>\n",
       "      <td id=\"T_e3ae9_row4_col1\" class=\"data row4 col1\" > 433,529 </td>\n",
       "      <td id=\"T_e3ae9_row4_col2\" class=\"data row4 col2\" > 210,901 </td>\n",
       "      <td id=\"T_e3ae9_row4_col3\" class=\"data row4 col3\" >48.600000</td>\n",
       "    </tr>\n",
       "    <tr>\n",
       "      <th id=\"T_e3ae9_level0_row5\" class=\"row_heading level0 row5\" >5</th>\n",
       "      <td id=\"T_e3ae9_row5_col0\" class=\"data row5 col0\" >2023 to 2024 Q2 July to September</td>\n",
       "      <td id=\"T_e3ae9_row5_col1\" class=\"data row5 col1\" > 432,177 </td>\n",
       "      <td id=\"T_e3ae9_row5_col2\" class=\"data row5 col2\" > 211,294 </td>\n",
       "      <td id=\"T_e3ae9_row5_col3\" class=\"data row5 col3\" >48.900000</td>\n",
       "    </tr>\n",
       "    <tr>\n",
       "      <th id=\"T_e3ae9_level0_row6\" class=\"row_heading level0 row6\" >6</th>\n",
       "      <td id=\"T_e3ae9_row6_col0\" class=\"data row6 col0\" >2023 to 2024 Q3 October to December</td>\n",
       "      <td id=\"T_e3ae9_row6_col1\" class=\"data row6 col1\" > 518,975 </td>\n",
       "      <td id=\"T_e3ae9_row6_col2\" class=\"data row6 col2\" > 245,843 </td>\n",
       "      <td id=\"T_e3ae9_row6_col3\" class=\"data row6 col3\" >47.400000</td>\n",
       "    </tr>\n",
       "    <tr>\n",
       "      <th id=\"T_e3ae9_level0_row7\" class=\"row_heading level0 row7\" >7</th>\n",
       "      <td id=\"T_e3ae9_row7_col0\" class=\"data row7 col0\" >2023 to 2024 Q4 January to March</td>\n",
       "      <td id=\"T_e3ae9_row7_col1\" class=\"data row7 col1\" > 560,544 </td>\n",
       "      <td id=\"T_e3ae9_row7_col2\" class=\"data row7 col2\" > 263,456 </td>\n",
       "      <td id=\"T_e3ae9_row7_col3\" class=\"data row7 col3\" >47.000000</td>\n",
       "    </tr>\n",
       "    <tr>\n",
       "      <th id=\"T_e3ae9_level0_row8\" class=\"row_heading level0 row8\" >8</th>\n",
       "      <td id=\"T_e3ae9_row8_col0\" class=\"data row8 col0\" >2024 to 2025 Q1 April to June</td>\n",
       "      <td id=\"T_e3ae9_row8_col1\" class=\"data row8 col1\" > 469,946 </td>\n",
       "      <td id=\"T_e3ae9_row8_col2\" class=\"data row8 col2\" > 225,875 </td>\n",
       "      <td id=\"T_e3ae9_row8_col3\" class=\"data row8 col3\" >48.100000</td>\n",
       "    </tr>\n",
       "    <tr>\n",
       "      <th id=\"T_e3ae9_level0_row9\" class=\"row_heading level0 row9\" >9</th>\n",
       "      <td id=\"T_e3ae9_row9_col0\" class=\"data row9 col0\" >2024 to 2025 Q2 July to September</td>\n",
       "      <td id=\"T_e3ae9_row9_col1\" class=\"data row9 col1\" > 448,687 </td>\n",
       "      <td id=\"T_e3ae9_row9_col2\" class=\"data row9 col2\" > 219,516 </td>\n",
       "      <td id=\"T_e3ae9_row9_col3\" class=\"data row9 col3\" >48.900000</td>\n",
       "    </tr>\n",
       "    <tr>\n",
       "      <th id=\"T_e3ae9_level0_row10\" class=\"row_heading level0 row10\" >10</th>\n",
       "      <td id=\"T_e3ae9_row10_col0\" class=\"data row10 col0\" >2024 to 2025 Q3 October to December</td>\n",
       "      <td id=\"T_e3ae9_row10_col1\" class=\"data row10 col1\" > 454,657 </td>\n",
       "      <td id=\"T_e3ae9_row10_col2\" class=\"data row10 col2\" > 221,792 </td>\n",
       "      <td id=\"T_e3ae9_row10_col3\" class=\"data row10 col3\" >48.800000</td>\n",
       "    </tr>\n",
       "    <tr>\n",
       "      <th id=\"T_e3ae9_level0_row11\" class=\"row_heading level0 row11\" >11</th>\n",
       "      <td id=\"T_e3ae9_row11_col0\" class=\"data row11 col0\" >2024 to 2025 Q4 January to March</td>\n",
       "      <td id=\"T_e3ae9_row11_col1\" class=\"data row11 col1\" > 466,527 </td>\n",
       "      <td id=\"T_e3ae9_row11_col2\" class=\"data row11 col2\" > 228,185 </td>\n",
       "      <td id=\"T_e3ae9_row11_col3\" class=\"data row11 col3\" >48.900000</td>\n",
       "    </tr>\n",
       "    <tr>\n",
       "      <th id=\"T_e3ae9_level0_row12\" class=\"row_heading level0 row12\" >12</th>\n",
       "      <td id=\"T_e3ae9_row12_col0\" class=\"data row12 col0\" >2025 to 2026 Q1 April to June</td>\n",
       "      <td id=\"T_e3ae9_row12_col1\" class=\"data row12 col1\" > 449,875 </td>\n",
       "      <td id=\"T_e3ae9_row12_col2\" class=\"data row12 col2\" > 225,595 </td>\n",
       "      <td id=\"T_e3ae9_row12_col3\" class=\"data row12 col3\" >50.100000</td>\n",
       "    </tr>\n",
       "  </tbody>\n",
       "</table>\n"
      ],
      "text/plain": [
       "<pandas.io.formats.style.Styler at 0x771d7c3316a0>"
      ]
     },
     "execution_count": 3,
     "metadata": {},
     "output_type": "execute_result"
    }
   ],
   "source": [
    "df.style.background_gradient(cmap='PuBu')"
   ]
  },
  {
   "cell_type": "markdown",
   "id": "91dbcea9",
   "metadata": {},
   "source": [
    "The statistics of the percentages as pass rates shows the colour keys of each pass rate. The maximum percentage is 50.1000000 which is 2025-2026 Q1 April-June. The minimum percentage is 47.000000 which is 2023-2024 Q4 January-March. Pass rates shows the number of conducts and passes during car driving test thoroughout each quarter of the year where the candidates passed or conducted our driving test. "
   ]
  },
  {
   "cell_type": "code",
   "execution_count": 4,
   "id": "4b330627",
   "metadata": {},
   "outputs": [],
   "source": [
    "average_rate = df['Pass rate (Percentage)'].mean()"
   ]
  },
  {
   "cell_type": "code",
   "execution_count": 5,
   "id": "e7c8ed13",
   "metadata": {},
   "outputs": [
    {
     "name": "stdout",
     "output_type": "stream",
     "text": [
      "The average of the Pass Rate is 48.47692307692307\n"
     ]
    }
   ],
   "source": [
    "print(f'The average of the Pass Rate is {average_rate}')"
   ]
  }
 ],
 "metadata": {
  "kernelspec": {
   "display_name": "Python 3",
   "language": "python",
   "name": "python3"
  },
  "language_info": {
   "codemirror_mode": {
    "name": "ipython",
    "version": 3
   },
   "file_extension": ".py",
   "mimetype": "text/x-python",
   "name": "python",
   "nbconvert_exporter": "python",
   "pygments_lexer": "ipython3",
   "version": "3.12.1"
  }
 },
 "nbformat": 4,
 "nbformat_minor": 5
}
